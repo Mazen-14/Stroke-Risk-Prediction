{
 "cells": [
  {
   "cell_type": "code",
   "execution_count": 88,
   "id": "fd06c9ab",
   "metadata": {},
   "outputs": [],
   "source": [
    "import pandas as pd\n",
    "import numpy as np\n",
    "import matplotlib.pyplot as plt\n",
    "import seaborn as sns\n",
    "from sklearn.model_selection import train_test_split, GridSearchCV\n",
    "from sklearn.preprocessing import StandardScaler\n",
    "from sklearn.metrics import classification_report, roc_auc_score, roc_curve, auc, confusion_matrix\n",
    "from imblearn.over_sampling import SMOTE\n",
    "from collections import Counter\n",
    "import joblib"
   ]
  },
  {
   "cell_type": "code",
   "execution_count": 89,
   "id": "8ca7b076",
   "metadata": {},
   "outputs": [],
   "source": [
    "from sklearn.linear_model import LogisticRegression\n",
    "from sklearn.ensemble import RandomForestClassifier, GradientBoostingClassifier\n",
    "from xgboost import XGBClassifier"
   ]
  },
  {
   "cell_type": "code",
   "execution_count": 90,
   "id": "ff02801d",
   "metadata": {},
   "outputs": [
    {
     "data": {
      "text/html": [
       "<div>\n",
       "<style scoped>\n",
       "    .dataframe tbody tr th:only-of-type {\n",
       "        vertical-align: middle;\n",
       "    }\n",
       "\n",
       "    .dataframe tbody tr th {\n",
       "        vertical-align: top;\n",
       "    }\n",
       "\n",
       "    .dataframe thead th {\n",
       "        text-align: right;\n",
       "    }\n",
       "</style>\n",
       "<table border=\"1\" class=\"dataframe\">\n",
       "  <thead>\n",
       "    <tr style=\"text-align: right;\">\n",
       "      <th></th>\n",
       "      <th>gender</th>\n",
       "      <th>age</th>\n",
       "      <th>hypertension</th>\n",
       "      <th>heart_disease</th>\n",
       "      <th>ever_married</th>\n",
       "      <th>work_type</th>\n",
       "      <th>Residence_type</th>\n",
       "      <th>avg_glucose_level</th>\n",
       "      <th>bmi</th>\n",
       "      <th>smoking_status</th>\n",
       "      <th>stroke</th>\n",
       "      <th>age_category</th>\n",
       "      <th>bmi_category</th>\n",
       "      <th>glucose_category</th>\n",
       "    </tr>\n",
       "  </thead>\n",
       "  <tbody>\n",
       "    <tr>\n",
       "      <th>0</th>\n",
       "      <td>0</td>\n",
       "      <td>0.817073</td>\n",
       "      <td>0</td>\n",
       "      <td>1</td>\n",
       "      <td>1</td>\n",
       "      <td>0</td>\n",
       "      <td>0</td>\n",
       "      <td>0.801265</td>\n",
       "      <td>0.745455</td>\n",
       "      <td>0</td>\n",
       "      <td>1</td>\n",
       "      <td>2</td>\n",
       "      <td>3</td>\n",
       "      <td>4</td>\n",
       "    </tr>\n",
       "    <tr>\n",
       "      <th>1</th>\n",
       "      <td>1</td>\n",
       "      <td>0.743902</td>\n",
       "      <td>0</td>\n",
       "      <td>0</td>\n",
       "      <td>1</td>\n",
       "      <td>1</td>\n",
       "      <td>1</td>\n",
       "      <td>0.679023</td>\n",
       "      <td>0.487879</td>\n",
       "      <td>1</td>\n",
       "      <td>1</td>\n",
       "      <td>2</td>\n",
       "      <td>2</td>\n",
       "      <td>4</td>\n",
       "    </tr>\n",
       "    <tr>\n",
       "      <th>2</th>\n",
       "      <td>0</td>\n",
       "      <td>0.975610</td>\n",
       "      <td>0</td>\n",
       "      <td>1</td>\n",
       "      <td>1</td>\n",
       "      <td>0</td>\n",
       "      <td>1</td>\n",
       "      <td>0.234512</td>\n",
       "      <td>0.621212</td>\n",
       "      <td>1</td>\n",
       "      <td>1</td>\n",
       "      <td>2</td>\n",
       "      <td>3</td>\n",
       "      <td>3</td>\n",
       "    </tr>\n",
       "    <tr>\n",
       "      <th>3</th>\n",
       "      <td>1</td>\n",
       "      <td>0.597561</td>\n",
       "      <td>0</td>\n",
       "      <td>0</td>\n",
       "      <td>1</td>\n",
       "      <td>0</td>\n",
       "      <td>0</td>\n",
       "      <td>0.536008</td>\n",
       "      <td>0.678788</td>\n",
       "      <td>2</td>\n",
       "      <td>1</td>\n",
       "      <td>1</td>\n",
       "      <td>3</td>\n",
       "      <td>2</td>\n",
       "    </tr>\n",
       "    <tr>\n",
       "      <th>4</th>\n",
       "      <td>1</td>\n",
       "      <td>0.963415</td>\n",
       "      <td>1</td>\n",
       "      <td>0</td>\n",
       "      <td>1</td>\n",
       "      <td>1</td>\n",
       "      <td>1</td>\n",
       "      <td>0.549349</td>\n",
       "      <td>0.363636</td>\n",
       "      <td>1</td>\n",
       "      <td>1</td>\n",
       "      <td>2</td>\n",
       "      <td>1</td>\n",
       "      <td>2</td>\n",
       "    </tr>\n",
       "  </tbody>\n",
       "</table>\n",
       "</div>"
      ],
      "text/plain": [
       "   gender       age  hypertension  heart_disease  ever_married  work_type  \\\n",
       "0       0  0.817073             0              1             1          0   \n",
       "1       1  0.743902             0              0             1          1   \n",
       "2       0  0.975610             0              1             1          0   \n",
       "3       1  0.597561             0              0             1          0   \n",
       "4       1  0.963415             1              0             1          1   \n",
       "\n",
       "   Residence_type  avg_glucose_level       bmi  smoking_status  stroke  \\\n",
       "0               0           0.801265  0.745455               0       1   \n",
       "1               1           0.679023  0.487879               1       1   \n",
       "2               1           0.234512  0.621212               1       1   \n",
       "3               0           0.536008  0.678788               2       1   \n",
       "4               1           0.549349  0.363636               1       1   \n",
       "\n",
       "   age_category  bmi_category  glucose_category  \n",
       "0             2             3                 4  \n",
       "1             2             2                 4  \n",
       "2             2             3                 3  \n",
       "3             1             3                 2  \n",
       "4             2             1                 2  "
      ]
     },
     "execution_count": 90,
     "metadata": {},
     "output_type": "execute_result"
    }
   ],
   "source": [
    "health_care = pd.read_csv(\"cleaned_data_2.csv\")\n",
    "health_care_df = pd.DataFrame(health_care)\n",
    "health_care_df.head()"
   ]
  },
  {
   "cell_type": "code",
   "execution_count": 91,
   "id": "e162fe4a",
   "metadata": {},
   "outputs": [
    {
     "name": "stdout",
     "output_type": "stream",
     "text": [
      "Data Shape: (5110, 14)\n",
      "\n",
      "Missing Values: 0\n",
      "\n",
      "Class Distribution:\n",
      " stroke\n",
      "0    0.951272\n",
      "1    0.048728\n",
      "Name: proportion, dtype: float64\n"
     ]
    }
   ],
   "source": [
    "print(\"Data Shape:\", health_care_df.shape)\n",
    "print(\"\\nMissing Values:\", health_care_df.isnull().sum().max())\n",
    "print(\"\\nClass Distribution:\\n\", health_care_df['stroke'].value_counts(normalize=True))"
   ]
  },
  {
   "cell_type": "code",
   "execution_count": 92,
   "id": "e429b2b2",
   "metadata": {},
   "outputs": [],
   "source": [
    "X = health_care_df.drop(['stroke'], axis=1)\n",
    "y = health_care_df['stroke']"
   ]
  },
  {
   "cell_type": "markdown",
   "id": "159e247c",
   "metadata": {},
   "source": [
    "# <span style=\"color:red\">Visualize</span>"
   ]
  },
  {
   "cell_type": "code",
   "execution_count": 93,
   "id": "7675116b",
   "metadata": {},
   "outputs": [
    {
     "name": "stdout",
     "output_type": "stream",
     "text": [
      "Class 0 (Negative): 4861 samples\n",
      "Class 1 (Positive): 249 samples\n",
      "Imbalance ratio: 1:19.52\n"
     ]
    }
   ],
   "source": [
    "class_counts = np.bincount(y)\n",
    "print(f\"Class 0 (Negative): {class_counts[0]} samples\")\n",
    "print(f\"Class 1 (Positive): {class_counts[1]} samples\")\n",
    "print(f\"Imbalance ratio: 1:{class_counts[0]/class_counts[1]:.2f}\")"
   ]
  },
  {
   "cell_type": "code",
   "execution_count": 94,
   "id": "cab5fe4c",
   "metadata": {},
   "outputs": [
    {
     "data": {
      "image/png": "[encoded data removed]",
      "text/plain": [
       "<Figure size 800x500 with 1 Axes>"
      ]
     },
     "metadata": {},
     "output_type": "display_data"
    }
   ],
   "source": [
    "plt.figure(figsize=(8, 5))\n",
    "sns.countplot(x=y)\n",
    "plt.title('Class Distribution')\n",
    "plt.xlabel('Class')\n",
    "plt.ylabel('Count')\n",
    "plt.xticks([0, 1], ['Negative (0)', 'Positive (1)'])\n",
    "plt.show()"
   ]
  },
  {
   "cell_type": "markdown",
   "id": "a414bbb9",
   "metadata": {},
   "source": [
    "# <span style=\"color:red\">Imbalance Dataset</span>\n",
    "### <span style=\"color:orange\">Ratio of class 1 to class 0 is bad so we will apply oversampling</span>"
   ]
  },
  {
   "cell_type": "code",
   "execution_count": 95,
   "id": "91fd3ac5",
   "metadata": {},
   "outputs": [
    {
     "name": "stdout",
     "output_type": "stream",
     "text": [
      "After SMOTE: Counter({0: 4861, 1: 3402})\n"
     ]
    }
   ],
   "source": [
    "smote = SMOTE(sampling_strategy=0.7,random_state=42)\n",
    "X_smote, y_smote = smote.fit_resample(X, y)\n",
    "print(\"After SMOTE:\", Counter(y_smote))"
   ]
  },
  {
   "cell_type": "code",
   "execution_count": 96,
   "id": "c4e52c36",
   "metadata": {},
   "outputs": [],
   "source": [
    "X_train, X_test, y_train, y_test = train_test_split(X_smote, y_smote, test_size=0.2, stratify=y_smote, random_state=42)"
   ]
  },
  {
   "cell_type": "code",
   "execution_count": 97,
   "id": "1cc853e0",
   "metadata": {},
   "outputs": [
    {
     "name": "stdout",
     "output_type": "stream",
     "text": [
      "Class distribution in training: Counter({0: 3889, 1: 2721})\n"
     ]
    }
   ],
   "source": [
    "scaler = StandardScaler()\n",
    "X_train_scaled = scaler.fit_transform(X_train)\n",
    "X_test_scaled = scaler.transform(X_test)\n",
    "\n",
    "print(\"Class distribution in training:\", Counter(y_train))"
   ]
  },
  {
   "cell_type": "markdown",
   "id": "eb7f112c",
   "metadata": {},
   "source": [
    "# <span style=\"color:red\">Logistic Regression</span>"
   ]
  },
  {
   "cell_type": "code",
   "execution_count": 98,
   "id": "63393fa4",
   "metadata": {},
   "outputs": [],
   "source": [
    "lr_model = LogisticRegression(class_weight='balanced')"
   ]
  },
  {
   "cell_type": "code",
   "execution_count": 99,
   "id": "bc2f56f1",
   "metadata": {},
   "outputs": [],
   "source": [
    "param_grid = {'C': [0.1, 1, 10]}\n",
    "grid = GridSearchCV(lr_model, param_grid, cv=5, scoring='roc_auc', n_jobs=-1)\n",
    "grid.fit(X_train_scaled, y_train)\n",
    "best_lr_model = grid.best_estimator_\n",
    "y_pred = best_lr_model.predict(X_test_scaled)\n",
    "y_proba = best_lr_model.predict_proba(X_test_scaled)[:,1]"
   ]
  },
  {
   "cell_type": "code",
   "execution_count": 100,
   "id": "f0e18909",
   "metadata": {},
   "outputs": [
    {
     "name": "stdout",
     "output_type": "stream",
     "text": [
      "\n",
      "Classification Report For Logistic Regression :\n",
      "              precision    recall  f1-score   support\n",
      "\n",
      "           0       0.85      0.78      0.81       972\n",
      "           1       0.72      0.81      0.76       681\n",
      "\n",
      "    accuracy                           0.79      1653\n",
      "   macro avg       0.79      0.79      0.79      1653\n",
      "weighted avg       0.80      0.79      0.79      1653\n",
      "\n",
      "\n",
      "AUC-ROC For Logistic Regression : 0.8766051497736927\n"
     ]
    }
   ],
   "source": [
    "print(\"\\nClassification Report For Logistic Regression :\")\n",
    "print(classification_report(y_test, y_pred))\n",
    "print(\"\\nAUC-ROC For Logistic Regression :\", roc_auc_score(y_test, y_proba))"
   ]
  },
  {
   "cell_type": "code",
   "execution_count": 101,
   "id": "2f80aa3c",
   "metadata": {},
   "outputs": [],
   "source": [
    "lr_results = {\n",
    "    'model': best_lr_model, \n",
    "    'roc_auc': roc_auc_score(y_test, y_proba),\n",
    "    'report': classification_report(y_test, y_pred),\n",
    "    'cm': confusion_matrix(y_test, y_pred),\n",
    "    'best_params': grid.best_params_\n",
    "}"
   ]
  },
  {
   "cell_type": "markdown",
   "id": "3bdc8a09",
   "metadata": {},
   "source": [
    "# <span style=\"color:red\">Random Forest</span>"
   ]
  },
  {
   "cell_type": "code",
   "execution_count": 102,
   "id": "236309a7",
   "metadata": {},
   "outputs": [],
   "source": [
    "rf = RandomForestClassifier(class_weight='balanced')"
   ]
  },
  {
   "cell_type": "code",
   "execution_count": 103,
   "id": "55d2fe04",
   "metadata": {},
   "outputs": [],
   "source": [
    "param_grid = {'n_estimators': [100, 200],'max_depth': [3, 5]}\n",
    "grid = GridSearchCV(rf, param_grid, cv=5, scoring='roc_auc', n_jobs=-1)\n",
    "grid.fit(X_train_scaled, y_train)\n",
    "best_rf = grid.best_estimator_\n",
    "y_pred = best_rf.predict(X_test_scaled)\n",
    "y_proba = best_rf.predict_proba(X_test_scaled)[:,1]"
   ]
  },
  {
   "cell_type": "code",
   "execution_count": 104,
   "id": "794ae637",
   "metadata": {},
   "outputs": [
    {
     "name": "stdout",
     "output_type": "stream",
     "text": [
      "\n",
      "Classification Report For Random Forest :\n",
      "              precision    recall  f1-score   support\n",
      "\n",
      "           0       0.94      0.73      0.82       972\n",
      "           1       0.71      0.93      0.81       681\n",
      "\n",
      "    accuracy                           0.81      1653\n",
      "   macro avg       0.82      0.83      0.81      1653\n",
      "weighted avg       0.84      0.81      0.82      1653\n",
      "\n",
      "\n",
      "AUC-ROC For Random Forest : 0.9120173975574531\n"
     ]
    }
   ],
   "source": [
    "print(\"\\nClassification Report For Random Forest :\")\n",
    "print(classification_report(y_test, y_pred))\n",
    "print(\"\\nAUC-ROC For Random Forest :\", roc_auc_score(y_test, y_proba))"
   ]
  },
  {
   "cell_type": "code",
   "execution_count": 105,
   "id": "dc931ac7",
   "metadata": {},
   "outputs": [],
   "source": [
    "rf_results = {\n",
    "    'model': best_rf,\n",
    "    'roc_auc': roc_auc_score(y_test, y_proba),\n",
    "    'report': classification_report(y_test, y_pred),\n",
    "    'cm': confusion_matrix(y_test, y_pred),\n",
    "    'best_params': grid.best_params_\n",
    "}"
   ]
  },
  {
   "cell_type": "markdown",
   "id": "b1b62453",
   "metadata": {},
   "source": [
    "# <span style=\"color:red\">Gradient Boosting</span>"
   ]
  },
  {
   "cell_type": "code",
   "execution_count": 106,
   "id": "e556fbf2",
   "metadata": {},
   "outputs": [],
   "source": [
    "gb = GradientBoostingClassifier()"
   ]
  },
  {
   "cell_type": "code",
   "execution_count": 107,
   "id": "8bc579cc",
   "metadata": {},
   "outputs": [],
   "source": [
    "param_grid = {'n_estimators': [100, 200],'learning_rate': [0.01, 0.1]}\n",
    "grid = GridSearchCV(gb, param_grid, cv=5, scoring='roc_auc', n_jobs=-1)\n",
    "grid.fit(X_train_scaled, y_train)\n",
    "best_gb = grid.best_estimator_\n",
    "y_pred = best_gb.predict(X_test_scaled)\n",
    "y_proba = best_gb.predict_proba(X_test_scaled)[:,1]"
   ]
  },
  {
   "cell_type": "code",
   "execution_count": 108,
   "id": "bf9e4525",
   "metadata": {},
   "outputs": [
    {
     "name": "stdout",
     "output_type": "stream",
     "text": [
      "\n",
      "Classification Report For Gradient Boosting :\n",
      "              precision    recall  f1-score   support\n",
      "\n",
      "           0       0.93      0.91      0.92       972\n",
      "           1       0.87      0.90      0.89       681\n",
      "\n",
      "    accuracy                           0.91      1653\n",
      "   macro avg       0.90      0.90      0.90      1653\n",
      "weighted avg       0.91      0.91      0.91      1653\n",
      "\n",
      "\n",
      "AUC-ROC For Gradient Boosting : 0.9649246448275653\n"
     ]
    }
   ],
   "source": [
    "print(\"\\nClassification Report For Gradient Boosting :\")\n",
    "print(classification_report(y_test, y_pred))\n",
    "print(\"\\nAUC-ROC For Gradient Boosting :\", roc_auc_score(y_test, y_proba))"
   ]
  },
  {
   "cell_type": "code",
   "execution_count": 109,
   "id": "b8f15f7a",
   "metadata": {},
   "outputs": [],
   "source": [
    "gb_results = {\n",
    "    'model': best_gb,\n",
    "    'roc_auc': roc_auc_score(y_test, y_proba),\n",
    "    'report': classification_report(y_test, y_pred),\n",
    "    'cm': confusion_matrix(y_test, y_pred),\n",
    "    'best_params': grid.best_params_\n",
    "}"
   ]
  },
  {
   "cell_type": "markdown",
   "id": "4ea40824",
   "metadata": {},
   "source": [
    "# <span style=\"color:red\">XGBoost</span>"
   ]
  },
  {
   "cell_type": "code",
   "execution_count": 110,
   "id": "1c183ba1",
   "metadata": {},
   "outputs": [],
   "source": [
    "xgb = XGBClassifier(scale_pos_weight=2, eval_metric='logloss')"
   ]
  },
  {
   "cell_type": "code",
   "execution_count": 111,
   "id": "76d0ef60",
   "metadata": {},
   "outputs": [],
   "source": [
    "param_grid = {'n_estimators': [100, 150],'learning_rate': [0.01, 0.1]}\n",
    "grid = GridSearchCV(xgb, param_grid, cv=5, scoring='roc_auc', n_jobs=-1)\n",
    "grid.fit(X_train_scaled, y_train)\n",
    "best_xgb = grid.best_estimator_\n",
    "y_pred = best_xgb.predict(X_test_scaled)\n",
    "y_proba = best_xgb.predict_proba(X_test_scaled)[:,1]"
   ]
  },
  {
   "cell_type": "code",
   "execution_count": 112,
   "id": "b29d80ec",
   "metadata": {},
   "outputs": [
    {
     "name": "stdout",
     "output_type": "stream",
     "text": [
      "\n",
      "Classification Report For XGBoost :\n",
      "              precision    recall  f1-score   support\n",
      "\n",
      "           0       0.97      0.89      0.93       972\n",
      "           1       0.86      0.96      0.91       681\n",
      "\n",
      "    accuracy                           0.92      1653\n",
      "   macro avg       0.91      0.92      0.92      1653\n",
      "weighted avg       0.92      0.92      0.92      1653\n",
      "\n",
      "\n",
      "AUC-ROC For XGBoost : 0.978547645377471\n"
     ]
    }
   ],
   "source": [
    "print(\"\\nClassification Report For XGBoost :\")\n",
    "print(classification_report(y_test, y_pred))\n",
    "print(\"\\nAUC-ROC For XGBoost :\", roc_auc_score(y_test, y_proba))"
   ]
  },
  {
   "cell_type": "code",
   "execution_count": 113,
   "id": "7fb7909b",
   "metadata": {},
   "outputs": [],
   "source": [
    "xgb_results = {\n",
    "    'model': best_xgb,\n",
    "    'roc_auc': roc_auc_score(y_test, y_proba),\n",
    "    'report': classification_report(y_test, y_pred),\n",
    "    'cm': confusion_matrix(y_test, y_pred),\n",
    "    'best_params': grid.best_params_\n",
    "}"
   ]
  },
  {
   "cell_type": "markdown",
   "id": "4f0517f5",
   "metadata": {},
   "source": [
    "## <span style=\"color:Blue\">Load The Model</span>"
   ]
  },
  {
   "cell_type": "code",
   "execution_count": 114,
   "id": "c0484e3c",
   "metadata": {},
   "outputs": [
    {
     "data": {
      "text/plain": [
       "['xgboost_model.pkl']"
      ]
     },
     "execution_count": 114,
     "metadata": {},
     "output_type": "execute_result"
    }
   ],
   "source": [
    "joblib.dump(best_xgb, 'xgboost_model.pkl')"
   ]
  },
  {
   "cell_type": "markdown",
   "id": "e6434c22",
   "metadata": {},
   "source": [
    "# <span style=\"color:purple\">Final Results</span>"
   ]
  },
  {
   "cell_type": "code",
   "execution_count": 115,
   "id": "d373c27e",
   "metadata": {},
   "outputs": [
    {
     "data": {
      "image/png": "[encoded data removed]",
      "text/plain": [
       "<Figure size 1000x800 with 1 Axes>"
      ]
     },
     "metadata": {},
     "output_type": "display_data"
    }
   ],
   "source": [
    "plt.figure(figsize=(10, 8))\n",
    "for name, results in {\n",
    "    'Logistic': lr_results,\n",
    "    'RF': rf_results,\n",
    "    'GB': gb_results,\n",
    "    'XGB': xgb_results,\n",
    "}.items():\n",
    "    fpr, tpr, _ = roc_curve(y_test, results['model'].predict_proba(X_test_scaled)[:,1])\n",
    "    roc_auc = auc(fpr, tpr)\n",
    "    plt.plot(fpr, tpr, lw=2, label=f'{name} (AUC = {roc_auc:.2f})')\n",
    "plt.plot([0, 1], [0, 1], 'k--', lw=2)\n",
    "plt.xlim([0.0, 1.0])\n",
    "plt.ylim([0.0, 1.05])\n",
    "plt.xlabel('False Positive Rate')\n",
    "plt.ylabel('True Positive Rate')\n",
    "plt.title('ROC Curves Comparison')\n",
    "plt.legend(loc=\"lower right\")\n",
    "plt.show()"
   ]
  },
  {
   "cell_type": "code",
   "execution_count": 116,
   "id": "2f271a0d",
   "metadata": {},
   "outputs": [
    {
     "name": "stdout",
     "output_type": "stream",
     "text": [
      "\n",
      "Model Comparison (Class 0 and Class 1 Metrics):\n"
     ]
    },
    {
     "data": {
      "text/html": [
       "<div>\n",
       "<style scoped>\n",
       "    .dataframe tbody tr th:only-of-type {\n",
       "        vertical-align: middle;\n",
       "    }\n",
       "\n",
       "    .dataframe tbody tr th {\n",
       "        vertical-align: top;\n",
       "    }\n",
       "\n",
       "    .dataframe thead th {\n",
       "        text-align: right;\n",
       "    }\n",
       "</style>\n",
       "<table border=\"1\" class=\"dataframe\">\n",
       "  <thead>\n",
       "    <tr style=\"text-align: right;\">\n",
       "      <th></th>\n",
       "      <th>Model</th>\n",
       "      <th>ROC AUC</th>\n",
       "      <th>Precision_0</th>\n",
       "      <th>Recall_0</th>\n",
       "      <th>F1_0</th>\n",
       "      <th>Precision_1</th>\n",
       "      <th>Recall_1</th>\n",
       "      <th>F1_1</th>\n",
       "    </tr>\n",
       "  </thead>\n",
       "  <tbody>\n",
       "    <tr>\n",
       "      <th>3</th>\n",
       "      <td>XGBoost</td>\n",
       "      <td>0.978548</td>\n",
       "      <td>0.97</td>\n",
       "      <td>0.89</td>\n",
       "      <td>0.93</td>\n",
       "      <td>0.86</td>\n",
       "      <td>0.96</td>\n",
       "      <td>0.91</td>\n",
       "    </tr>\n",
       "    <tr>\n",
       "      <th>2</th>\n",
       "      <td>Gradient Boosting</td>\n",
       "      <td>0.964925</td>\n",
       "      <td>0.93</td>\n",
       "      <td>0.91</td>\n",
       "      <td>0.92</td>\n",
       "      <td>0.87</td>\n",
       "      <td>0.90</td>\n",
       "      <td>0.89</td>\n",
       "    </tr>\n",
       "    <tr>\n",
       "      <th>1</th>\n",
       "      <td>Random Forest</td>\n",
       "      <td>0.912017</td>\n",
       "      <td>0.94</td>\n",
       "      <td>0.73</td>\n",
       "      <td>0.82</td>\n",
       "      <td>0.71</td>\n",
       "      <td>0.93</td>\n",
       "      <td>0.81</td>\n",
       "    </tr>\n",
       "    <tr>\n",
       "      <th>0</th>\n",
       "      <td>Logistic</td>\n",
       "      <td>0.876605</td>\n",
       "      <td>0.85</td>\n",
       "      <td>0.78</td>\n",
       "      <td>0.81</td>\n",
       "      <td>0.72</td>\n",
       "      <td>0.81</td>\n",
       "      <td>0.76</td>\n",
       "    </tr>\n",
       "  </tbody>\n",
       "</table>\n",
       "</div>"
      ],
      "text/plain": [
       "               Model   ROC AUC  Precision_0  Recall_0  F1_0  Precision_1  \\\n",
       "3            XGBoost  0.978548         0.97      0.89  0.93         0.86   \n",
       "2  Gradient Boosting  0.964925         0.93      0.91  0.92         0.87   \n",
       "1      Random Forest  0.912017         0.94      0.73  0.82         0.71   \n",
       "0           Logistic  0.876605         0.85      0.78  0.81         0.72   \n",
       "\n",
       "   Recall_1  F1_1  \n",
       "3      0.96  0.91  \n",
       "2      0.90  0.89  \n",
       "1      0.93  0.81  \n",
       "0      0.81  0.76  "
      ]
     },
     "execution_count": 116,
     "metadata": {},
     "output_type": "execute_result"
    }
   ],
   "source": [
    "summary = pd.DataFrame({\n",
    "    'Model': ['Logistic', 'Random Forest', 'Gradient Boosting', 'XGBoost'],\n",
    "    'ROC AUC': [lr_results['roc_auc'], \n",
    "                rf_results['roc_auc'], \n",
    "                gb_results['roc_auc'], \n",
    "                xgb_results['roc_auc']],\n",
    "    'Precision_0': [\n",
    "        float(lr_results['report'].split()[5]),  \n",
    "        float(rf_results['report'].split()[5]),\n",
    "        float(gb_results['report'].split()[5]),\n",
    "        float(xgb_results['report'].split()[5])\n",
    "    ],\n",
    "    'Recall_0': [\n",
    "        float(lr_results['report'].split()[6]),  \n",
    "        float(rf_results['report'].split()[6]),\n",
    "        float(gb_results['report'].split()[6]),\n",
    "        float(xgb_results['report'].split()[6])\n",
    "    ],\n",
    "    'F1_0': [\n",
    "        float(lr_results['report'].split()[7]),  \n",
    "        float(rf_results['report'].split()[7]),\n",
    "        float(gb_results['report'].split()[7]),\n",
    "        float(xgb_results['report'].split()[7])\n",
    "    ],\n",
    "    'Precision_1': [\n",
    "        float(lr_results['report'].split()[10]),  \n",
    "        float(rf_results['report'].split()[10]),\n",
    "        float(gb_results['report'].split()[10]),\n",
    "        float(xgb_results['report'].split()[10])\n",
    "    ],\n",
    "    'Recall_1': [\n",
    "        float(lr_results['report'].split()[11]),  \n",
    "        float(rf_results['report'].split()[11]),\n",
    "        float(gb_results['report'].split()[11]),\n",
    "        float(xgb_results['report'].split()[11])\n",
    "    ],\n",
    "    'F1_1': [\n",
    "        float(lr_results['report'].split()[12]),  \n",
    "        float(rf_results['report'].split()[12]),\n",
    "        float(gb_results['report'].split()[12]),\n",
    "        float(xgb_results['report'].split()[12])\n",
    "    ]\n",
    "})\n",
    "\n",
    "print(\"\\nModel Comparison (Class 0 and Class 1 Metrics):\")\n",
    "summary.sort_values(by='ROC AUC', ascending=False)"
   ]
  },
  {
   "cell_type": "markdown",
   "id": "e6eeae0d",
   "metadata": {},
   "source": [
    "# <span style=\"color:green\">XGBoost Is The Best Model For The Data</span>"
   ]
  }
 ],
 "metadata": {
  "kernelspec": {
   "display_name": "myenv",
   "language": "python",
   "name": "python3"
  },
  "language_info": {
   "codemirror_mode": {
    "name": "ipython",
    "version": 3
   },
   "file_extension": ".py",
   "mimetype": "text/x-python",
   "name": "python",
   "nbconvert_exporter": "python",
   "pygments_lexer": "ipython3",
   "version": "3.10.0"
  }
 },
 "nbformat": 4,
 "nbformat_minor": 5
}
